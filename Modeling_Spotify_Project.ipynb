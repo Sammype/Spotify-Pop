{
 "cells": [
  {
   "cell_type": "code",
   "execution_count": 1,
   "id": "2f268ad5",
   "metadata": {},
   "outputs": [],
   "source": [
    "#I'm just going to jump right in for now and run my imports\n",
    "import math \n",
    "import numpy as np\n",
    "import pandas as pd\n",
    "import matplotlib.pyplot as plt\n",
    "import seaborn as sns\n",
    "\n",
    "#I want to have clean outputs so I'll go ahead and do this here as well.\n",
    "import warnings\n",
    "warnings.filterwarnings('ignore')"
   ]
  },
  {
   "cell_type": "code",
   "execution_count": 2,
   "id": "23ace357",
   "metadata": {},
   "outputs": [],
   "source": [
    "#And now to load in my data (I already exported this as my training and testing data, so this should be fast).\n",
    "X_tr = pd.read_csv('X_train.csv')\n",
    "X_te = pd.read_csv('X_test.csv')\n",
    "\n",
    "y_tr = pd.read_csv('y_train.csv')\n",
    "y_te = pd.read_csv('y_test.csv')"
   ]
  },
  {
   "cell_type": "code",
   "execution_count": 3,
   "id": "10753981",
   "metadata": {},
   "outputs": [
    {
     "data": {
      "text/html": [
       "<div>\n",
       "<style scoped>\n",
       "    .dataframe tbody tr th:only-of-type {\n",
       "        vertical-align: middle;\n",
       "    }\n",
       "\n",
       "    .dataframe tbody tr th {\n",
       "        vertical-align: top;\n",
       "    }\n",
       "\n",
       "    .dataframe thead th {\n",
       "        text-align: right;\n",
       "    }\n",
       "</style>\n",
       "<table border=\"1\" class=\"dataframe\">\n",
       "  <thead>\n",
       "    <tr style=\"text-align: right;\">\n",
       "      <th></th>\n",
       "      <th>song_duration_ms</th>\n",
       "      <th>acousticness</th>\n",
       "      <th>danceability</th>\n",
       "      <th>energy</th>\n",
       "      <th>instrumentalness</th>\n",
       "      <th>liveness</th>\n",
       "      <th>loudness</th>\n",
       "      <th>speechiness</th>\n",
       "      <th>tempo</th>\n",
       "      <th>audio_valence</th>\n",
       "      <th>...</th>\n",
       "      <th>key_2</th>\n",
       "      <th>key_3</th>\n",
       "      <th>key_4</th>\n",
       "      <th>key_5</th>\n",
       "      <th>key_6</th>\n",
       "      <th>key_7</th>\n",
       "      <th>key_8</th>\n",
       "      <th>key_9</th>\n",
       "      <th>key_10</th>\n",
       "      <th>key_11</th>\n",
       "    </tr>\n",
       "  </thead>\n",
       "  <tbody>\n",
       "    <tr>\n",
       "      <th>0</th>\n",
       "      <td>-0.867944</td>\n",
       "      <td>-0.92484</td>\n",
       "      <td>0.068885</td>\n",
       "      <td>1.463252</td>\n",
       "      <td>-0.388402</td>\n",
       "      <td>-0.930734</td>\n",
       "      <td>0.653316</td>\n",
       "      <td>-0.130142</td>\n",
       "      <td>0.98935</td>\n",
       "      <td>1.175261</td>\n",
       "      <td>...</td>\n",
       "      <td>0</td>\n",
       "      <td>0</td>\n",
       "      <td>0</td>\n",
       "      <td>0</td>\n",
       "      <td>0</td>\n",
       "      <td>0</td>\n",
       "      <td>0</td>\n",
       "      <td>1</td>\n",
       "      <td>0</td>\n",
       "      <td>0</td>\n",
       "    </tr>\n",
       "  </tbody>\n",
       "</table>\n",
       "<p>1 rows × 21 columns</p>\n",
       "</div>"
      ],
      "text/plain": [
       "   song_duration_ms  acousticness  danceability    energy  instrumentalness  \\\n",
       "0         -0.867944      -0.92484      0.068885  1.463252         -0.388402   \n",
       "\n",
       "   liveness  loudness  speechiness    tempo  audio_valence  ...  key_2  key_3  \\\n",
       "0 -0.930734  0.653316    -0.130142  0.98935       1.175261  ...      0      0   \n",
       "\n",
       "   key_4  key_5  key_6  key_7  key_8  key_9  key_10  key_11  \n",
       "0      0      0      0      0      0      1       0       0  \n",
       "\n",
       "[1 rows x 21 columns]"
      ]
     },
     "execution_count": 3,
     "metadata": {},
     "output_type": "execute_result"
    }
   ],
   "source": [
    "#I just want to make sure that everything went smoothly, so I'll just peek at the data\n",
    "X_tr.head(1)"
   ]
  },
  {
   "cell_type": "code",
   "execution_count": 4,
   "id": "1fa55b57",
   "metadata": {},
   "outputs": [
    {
     "data": {
      "text/html": [
       "<div>\n",
       "<style scoped>\n",
       "    .dataframe tbody tr th:only-of-type {\n",
       "        vertical-align: middle;\n",
       "    }\n",
       "\n",
       "    .dataframe tbody tr th {\n",
       "        vertical-align: top;\n",
       "    }\n",
       "\n",
       "    .dataframe thead th {\n",
       "        text-align: right;\n",
       "    }\n",
       "</style>\n",
       "<table border=\"1\" class=\"dataframe\">\n",
       "  <thead>\n",
       "    <tr style=\"text-align: right;\">\n",
       "      <th></th>\n",
       "      <th>song_duration_ms</th>\n",
       "      <th>acousticness</th>\n",
       "      <th>danceability</th>\n",
       "      <th>energy</th>\n",
       "      <th>instrumentalness</th>\n",
       "      <th>liveness</th>\n",
       "      <th>loudness</th>\n",
       "      <th>speechiness</th>\n",
       "      <th>tempo</th>\n",
       "      <th>audio_valence</th>\n",
       "      <th>...</th>\n",
       "      <th>key_2</th>\n",
       "      <th>key_3</th>\n",
       "      <th>key_4</th>\n",
       "      <th>key_5</th>\n",
       "      <th>key_6</th>\n",
       "      <th>key_7</th>\n",
       "      <th>key_8</th>\n",
       "      <th>key_9</th>\n",
       "      <th>key_10</th>\n",
       "      <th>key_11</th>\n",
       "    </tr>\n",
       "  </thead>\n",
       "  <tbody>\n",
       "    <tr>\n",
       "      <th>0</th>\n",
       "      <td>0.690136</td>\n",
       "      <td>0.923233</td>\n",
       "      <td>0.504953</td>\n",
       "      <td>-0.024704</td>\n",
       "      <td>-0.391987</td>\n",
       "      <td>-0.381865</td>\n",
       "      <td>0.304084</td>\n",
       "      <td>-0.720227</td>\n",
       "      <td>-0.632693</td>\n",
       "      <td>-0.264326</td>\n",
       "      <td>...</td>\n",
       "      <td>0</td>\n",
       "      <td>0</td>\n",
       "      <td>0</td>\n",
       "      <td>0</td>\n",
       "      <td>0</td>\n",
       "      <td>0</td>\n",
       "      <td>0</td>\n",
       "      <td>1</td>\n",
       "      <td>0</td>\n",
       "      <td>0</td>\n",
       "    </tr>\n",
       "  </tbody>\n",
       "</table>\n",
       "<p>1 rows × 21 columns</p>\n",
       "</div>"
      ],
      "text/plain": [
       "   song_duration_ms  acousticness  danceability    energy  instrumentalness  \\\n",
       "0          0.690136      0.923233      0.504953 -0.024704         -0.391987   \n",
       "\n",
       "   liveness  loudness  speechiness     tempo  audio_valence  ...  key_2  \\\n",
       "0 -0.381865  0.304084    -0.720227 -0.632693      -0.264326  ...      0   \n",
       "\n",
       "   key_3  key_4  key_5  key_6  key_7  key_8  key_9  key_10  key_11  \n",
       "0      0      0      0      0      0      0      1       0       0  \n",
       "\n",
       "[1 rows x 21 columns]"
      ]
     },
     "execution_count": 4,
     "metadata": {},
     "output_type": "execute_result"
    }
   ],
   "source": [
    "X_te.head(1)"
   ]
  },
  {
   "cell_type": "code",
   "execution_count": 5,
   "id": "f6e6b999",
   "metadata": {},
   "outputs": [
    {
     "data": {
      "text/html": [
       "<div>\n",
       "<style scoped>\n",
       "    .dataframe tbody tr th:only-of-type {\n",
       "        vertical-align: middle;\n",
       "    }\n",
       "\n",
       "    .dataframe tbody tr th {\n",
       "        vertical-align: top;\n",
       "    }\n",
       "\n",
       "    .dataframe thead th {\n",
       "        text-align: right;\n",
       "    }\n",
       "</style>\n",
       "<table border=\"1\" class=\"dataframe\">\n",
       "  <thead>\n",
       "    <tr style=\"text-align: right;\">\n",
       "      <th></th>\n",
       "      <th>song_popularity</th>\n",
       "    </tr>\n",
       "  </thead>\n",
       "  <tbody>\n",
       "    <tr>\n",
       "      <th>0</th>\n",
       "      <td>0</td>\n",
       "    </tr>\n",
       "  </tbody>\n",
       "</table>\n",
       "</div>"
      ],
      "text/plain": [
       "   song_popularity\n",
       "0                0"
      ]
     },
     "execution_count": 5,
     "metadata": {},
     "output_type": "execute_result"
    }
   ],
   "source": [
    "y_tr.head(1)"
   ]
  },
  {
   "cell_type": "code",
   "execution_count": 6,
   "id": "6a70d28c",
   "metadata": {},
   "outputs": [
    {
     "data": {
      "text/html": [
       "<div>\n",
       "<style scoped>\n",
       "    .dataframe tbody tr th:only-of-type {\n",
       "        vertical-align: middle;\n",
       "    }\n",
       "\n",
       "    .dataframe tbody tr th {\n",
       "        vertical-align: top;\n",
       "    }\n",
       "\n",
       "    .dataframe thead th {\n",
       "        text-align: right;\n",
       "    }\n",
       "</style>\n",
       "<table border=\"1\" class=\"dataframe\">\n",
       "  <thead>\n",
       "    <tr style=\"text-align: right;\">\n",
       "      <th></th>\n",
       "      <th>song_popularity</th>\n",
       "    </tr>\n",
       "  </thead>\n",
       "  <tbody>\n",
       "    <tr>\n",
       "      <th>0</th>\n",
       "      <td>66</td>\n",
       "    </tr>\n",
       "  </tbody>\n",
       "</table>\n",
       "</div>"
      ],
      "text/plain": [
       "   song_popularity\n",
       "0               66"
      ]
     },
     "execution_count": 6,
     "metadata": {},
     "output_type": "execute_result"
    }
   ],
   "source": [
    "y_te.head(1)"
   ]
  },
  {
   "cell_type": "markdown",
   "id": "a0b446da",
   "metadata": {},
   "source": [
    "Everything looks okay, so now it is time to do what I came here for, modeling. For one, I am going to use Grid Search for hyperparameter optimization, as while I know it is not necessarily the best in terms of time efficentcy it should get me better results, which I think will be necessary as this dataset was shown in the EDA to have very loose corelations and I hope this will help in counteracting that. As for the models that I am going to test, I think I'll try out 5 and see how well they work. Well, here is to hoping to find the best model!"
   ]
  },
  {
   "cell_type": "code",
   "execution_count": 20,
   "id": "c982a99f",
   "metadata": {},
   "outputs": [],
   "source": [
    "#Run the sklearn imports!\n",
    "from sklearn.model_selection import GridSearchCV\n",
    "from sklearn.linear_model import LinearRegression\n",
    "from sklearn.neighbors import KNeighborsRegressor\n",
    "from sklearn.ensemble import RandomForestRegressor\n",
    "from sklearn.ensemble import AdaBoostRegressor\n",
    "from sklearn.neural_network import MLPRegressor"
   ]
  },
  {
   "cell_type": "code",
   "execution_count": 12,
   "id": "5105fcda",
   "metadata": {},
   "outputs": [
    {
     "data": {
      "text/plain": [
       "GridSearchCV(estimator=LinearRegression(), n_jobs=-1,\n",
       "             param_grid={'fit_intercept': [True, False],\n",
       "                         'normalize': [True, False],\n",
       "                         'positive': [True, False]})"
      ]
     },
     "execution_count": 12,
     "metadata": {},
     "output_type": "execute_result"
    }
   ],
   "source": [
    "#I'm going to start with the logistic regression model\n",
    "lr_model = LinearRegression()\n",
    "lr_params = {'fit_intercept' : [True, False],\n",
    "             'normalize'     : [True, False],\n",
    "             'positive'      : [True, False]\n",
    "            }\n",
    "#I think for all of these I will just go for the basic 5-fold cross validation as I think it works well.\n",
    "lr_grid = GridSearchCV(estimator = lr_model, param_grid = lr_params, n_jobs = -1)\n",
    "lr_grid.fit(X_tr, y_tr)"
   ]
  },
  {
   "cell_type": "code",
   "execution_count": 16,
   "id": "90067f17",
   "metadata": {},
   "outputs": [
    {
     "name": "stdout",
     "output_type": "stream",
     "text": [
      "Best Params: LinearRegression(normalize=True)\n",
      "Best Score: 0.017998560767283966\n",
      "On Test Data R^2: 0.01879229369607338\n"
     ]
    }
   ],
   "source": [
    "print('Best Params:', lr_grid.best_estimator_)\n",
    "lr_train_r2_best = lr_grid.best_score_\n",
    "print('Best Score:', lr_train_r2_best)\n",
    "lr_test_r2 = lr_grid.score(X_te, y_te)\n",
    "print('On Test Data R^2:', lr_test_r2)"
   ]
  },
  {
   "cell_type": "code",
   "execution_count": 17,
   "id": "2a06b8db",
   "metadata": {},
   "outputs": [
    {
     "name": "stdout",
     "output_type": "stream",
     "text": [
      "Mean Absolute Error: 15.828011479907058\n"
     ]
    }
   ],
   "source": [
    "#The other metric I will use to judge my models will be MAE, as I am not trying to define a loss function and I want to \n",
    "#choose something that will be more robust to outliers.\n",
    "from sklearn.metrics import mean_absolute_error\n",
    "lr_y_pred = lr_grid.predict(X_te)\n",
    "lr_MAE = mean_absolute_error(y_te, lr_y_pred)\n",
    "print('Mean Absolute Error:', lr_MAE)"
   ]
  },
  {
   "cell_type": "code",
   "execution_count": 18,
   "id": "a8d2c6c3",
   "metadata": {},
   "outputs": [
    {
     "data": {
      "text/plain": [
       "GridSearchCV(estimator=KNeighborsRegressor(), n_jobs=-1,\n",
       "             param_grid={'algorithm': ['auto', 'ball_tree', 'kd_tree', 'brute'],\n",
       "                         'n_neighbors': [3, 5, 9, 17, 33, 65, 129, 257, 513],\n",
       "                         'p': [1, 2], 'weights': ['uniform', 'distance']})"
      ]
     },
     "execution_count": 18,
     "metadata": {},
     "output_type": "execute_result"
    }
   ],
   "source": [
    "#So, not so great so far, but we are just starting. Lets move on to the KNeighbor regressor!\n",
    "knn_model = KNeighborsRegressor()\n",
    "#I am just doing 2^i + 1 for my neighbor amounts as it will always get me a odd number and will test out numbers on an\n",
    "#exponential curve.\n",
    "knn_params = {'n_neighbors' : [3, 5, 9, 17, 33, 65, 129, 257, 513],\n",
    "              'weights'     : ['uniform', 'distance'],\n",
    "              'algorithm'   : ['auto', 'ball_tree', 'kd_tree', 'brute'],\n",
    "              'p'           : [1, 2]\n",
    "             }\n",
    "knn_grid = GridSearchCV(estimator = knn_model, param_grid = knn_params, n_jobs = -1)\n",
    "knn_grid.fit(X_tr, y_tr)"
   ]
  },
  {
   "cell_type": "code",
   "execution_count": 19,
   "id": "c353dfc8",
   "metadata": {},
   "outputs": [
    {
     "name": "stdout",
     "output_type": "stream",
     "text": [
      "Best Params: KNeighborsRegressor(algorithm='ball_tree', n_neighbors=129, p=1)\n",
      "Best Score: 0.03616738187708275\n",
      "On Test Data R^2: 0.04461926458390941\n",
      "Mean Absolute Error: 15.419288017596687\n"
     ]
    }
   ],
   "source": [
    "print('Best Params:', knn_grid.best_estimator_)\n",
    "knn_train_r2_best = knn_grid.best_score_\n",
    "print('Best Score:', knn_train_r2_best)\n",
    "knn_test_r2 = knn_grid.score(X_te, y_te)\n",
    "print('On Test Data R^2:', knn_test_r2)\n",
    "\n",
    "knn_y_pred = knn_grid.predict(X_te)\n",
    "knn_MAE = mean_absolute_error(y_te, knn_y_pred)\n",
    "print('Mean Absolute Error:', knn_MAE)"
   ]
  },
  {
   "cell_type": "code",
   "execution_count": 21,
   "id": "c9c33eef",
   "metadata": {},
   "outputs": [
    {
     "data": {
      "text/plain": [
       "GridSearchCV(estimator=RandomForestRegressor(), n_jobs=-1,\n",
       "             param_grid={'bootstrap': [True, False],\n",
       "                         'max_features': ['auto', 'sqrt', 'log2'],\n",
       "                         'min_samples_split': [2, 4, 8, 10],\n",
       "                         'n_estimators': [10, 25, 50, 100, 250, 500]})"
      ]
     },
     "execution_count": 21,
     "metadata": {},
     "output_type": "execute_result"
    }
   ],
   "source": [
    "#Improvement! Not necessarily something I would put money on but improvement none the less!\n",
    "#Next I'm going to move into using my ensemble models, starting with a random forest model.\n",
    "RF_model = RandomForestRegressor()\n",
    "#I could try out more parameters, but for the sake of time I think these should be enough.\n",
    "RF_params = {'n_estimators'      : [10, 25, 50, 100, 250, 500],\n",
    "             'max_features'      : ['auto', 'sqrt', 'log2'],\n",
    "             'bootstrap'         : [True, False],\n",
    "             'min_samples_split' : [2, 4, 8, 10]\n",
    "            }\n",
    "RF_grid = GridSearchCV(estimator = RF_model, param_grid = RF_params, n_jobs = -1)\n",
    "RF_grid.fit(X_tr, y_tr)"
   ]
  },
  {
   "cell_type": "code",
   "execution_count": 22,
   "id": "8ba0cb95",
   "metadata": {},
   "outputs": [
    {
     "name": "stdout",
     "output_type": "stream",
     "text": [
      "Best Params: RandomForestRegressor(max_features='sqrt', min_samples_split=10,\n",
      "                      n_estimators=500)\n",
      "Best Score: 0.056225512472251694\n",
      "On Test Data R^2: 0.05760070878494461\n",
      "Mean Absolute Error: 15.567252257144762\n"
     ]
    }
   ],
   "source": [
    "print('Best Params:', RF_grid.best_estimator_)\n",
    "RF_train_r2_best = RF_grid.best_score_\n",
    "print('Best Score:', RF_train_r2_best)\n",
    "RF_test_r2 = RF_grid.score(X_te, y_te)\n",
    "print('On Test Data R^2:', RF_test_r2)\n",
    "\n",
    "RF_y_pred = RF_grid.predict(X_te)\n",
    "RF_MAE = mean_absolute_error(y_te, RF_y_pred)\n",
    "print('Mean Absolute Error:', RF_MAE)"
   ]
  },
  {
   "cell_type": "code",
   "execution_count": 23,
   "id": "3010f131",
   "metadata": {},
   "outputs": [
    {
     "data": {
      "text/plain": [
       "GridSearchCV(estimator=AdaBoostRegressor(), n_jobs=-1,\n",
       "             param_grid={'learning_rate': [0.001, 0.01, 0.1, 1.0],\n",
       "                         'loss': ['linear', 'square', 'exponential'],\n",
       "                         'n_estimators': [10, 25, 50, 100, 250, 500]})"
      ]
     },
     "execution_count": 23,
     "metadata": {},
     "output_type": "execute_result"
    }
   ],
   "source": [
    "#Okay, so based off this result it looks like I could get some better results if I were to increase the min_samples_split \n",
    "#and the number of estimators, but doing this was already pretty computationally expensive and time consuming and even then\n",
    "#it's still very similar to the KNN model from earlier with a slightly better R^2 score and a slightly worse mean absolute\n",
    "#error, so I'll keep in mind if at the end this is the number 2 model that I should go back and try some more variables, but\n",
    "#for now I am going to try an AdaBoost model and hope for better results!\n",
    "ada_model = AdaBoostRegressor()\n",
    "#While this might also only run decision trees, it should still give different results than the RF model from before.\n",
    "ada_params = {'loss'          : ['linear', 'square', 'exponential'], \n",
    "              'n_estimators'  : [10, 25, 50, 100, 250, 500],\n",
    "              'learning_rate' : [0.001, 0.01, 0.1, 1.0]\n",
    "             }\n",
    "ada_grid = GridSearchCV(estimator = ada_model, param_grid = ada_params, n_jobs = -1)\n",
    "ada_grid.fit(X_tr, y_tr)"
   ]
  },
  {
   "cell_type": "code",
   "execution_count": 24,
   "id": "2f65bd19",
   "metadata": {},
   "outputs": [
    {
     "name": "stdout",
     "output_type": "stream",
     "text": [
      "Best Params: AdaBoostRegressor(learning_rate=0.01)\n",
      "Best Score: 0.03996600822022689\n",
      "On Test Data R^2: 0.03170474627008146\n",
      "Mean Absolute Error: 15.872577282004633\n"
     ]
    }
   ],
   "source": [
    "print('Best Params:', ada_grid.best_estimator_)\n",
    "ada_train_r2_best = ada_grid.best_score_\n",
    "print('Best Score:', ada_train_r2_best)\n",
    "ada_test_r2 = ada_grid.score(X_te, y_te)\n",
    "print('On Test Data R^2:', ada_test_r2)\n",
    "\n",
    "ada_y_pred = ada_grid.predict(X_te)\n",
    "ada_MAE = mean_absolute_error(y_te, ada_y_pred)\n",
    "print('Mean Absolute Error:', ada_MAE)"
   ]
  },
  {
   "cell_type": "code",
   "execution_count": 25,
   "id": "78cd4e03",
   "metadata": {},
   "outputs": [
    {
     "data": {
      "text/plain": [
       "GridSearchCV(estimator=AdaBoostRegressor(), n_jobs=-1,\n",
       "             param_grid={'learning_rate': [0.001, 0.01, 0.1, 1.0],\n",
       "                         'loss': ['linear', 'square', 'exponential'],\n",
       "                         'n_estimators': [10, 25, 50, 100, 250, 500]})"
      ]
     },
     "execution_count": 25,
     "metadata": {},
     "output_type": "execute_result"
    }
   ],
   "source": [
    "#Okay, so it looks like it didn't perform better (in fact in some ways it performed worse than the linear regession model), \n",
    "#and even then I am not to sure if I'm feeling comfortable enough to deny the null hypothesis that you can't meaningfully\n",
    "#predict the popularity of a song based off the song elements. That said, I still have one model I want to try before I call\n",
    "#it quits for the model testing before the direct comparison and (potential) changing of the random forest model. So I \n",
    "#suppose now's the time for neural network!\n",
    "mlp_model = MLPRegressor()\n",
    "mlp_params = {'solver'     : ['lbfgs', 'sgd', 'adam'],\n",
    "              'activation' : ['identity', 'logistic', 'tanh', 'relu'],\n",
    "              'alpha'      : [0.00001, 0.0001, 0.001, 0.01]\n",
    "             }\n",
    "mlp_grid = GridSearchCV(estimator = ada_model, param_grid = ada_params, n_jobs = -1)\n",
    "mlp_grid.fit(X_tr, y_tr)"
   ]
  },
  {
   "cell_type": "code",
   "execution_count": 26,
   "id": "09698b0a",
   "metadata": {},
   "outputs": [
    {
     "name": "stdout",
     "output_type": "stream",
     "text": [
      "Best Params: AdaBoostRegressor(learning_rate=0.001, loss='square', n_estimators=25)\n",
      "Best Score: 0.03975048751403916\n",
      "On Test Data R^2: 0.031961549574077486\n",
      "Mean Absolute Error: 15.788771215507797\n"
     ]
    }
   ],
   "source": [
    "print('Best Params:', mlp_grid.best_estimator_)\n",
    "mlp_train_r2_best = mlp_grid.best_score_\n",
    "print('Best Score:', mlp_train_r2_best)\n",
    "mlp_test_r2 = mlp_grid.score(X_te, y_te)\n",
    "print('On Test Data R^2:', mlp_test_r2)\n",
    "\n",
    "mlp_y_pred = mlp_grid.predict(X_te)\n",
    "mlp_MAE = mean_absolute_error(y_te, mlp_y_pred)\n",
    "print('Mean Absolute Error:', mlp_MAE)"
   ]
  },
  {
   "cell_type": "markdown",
   "id": "936c6806",
   "metadata": {},
   "source": [
    "Well, looking at it the results are not necessarily the best and I'm sure there are ways in changing the tried hyperparameters in such a way where I could get better results, but the only model that I feel could warrent a change would be the random forest model, and if I did try to do that it would be even more time consuming and would still have the chance of not much improvment, so I will just move forward with the cross examination of the models and figure out which one is the best."
   ]
  },
  {
   "cell_type": "code",
   "execution_count": 33,
   "id": "4721fb57",
   "metadata": {},
   "outputs": [
    {
     "data": {
      "text/html": [
       "<div>\n",
       "<style scoped>\n",
       "    .dataframe tbody tr th:only-of-type {\n",
       "        vertical-align: middle;\n",
       "    }\n",
       "\n",
       "    .dataframe tbody tr th {\n",
       "        vertical-align: top;\n",
       "    }\n",
       "\n",
       "    .dataframe thead th {\n",
       "        text-align: right;\n",
       "    }\n",
       "</style>\n",
       "<table border=\"1\" class=\"dataframe\">\n",
       "  <thead>\n",
       "    <tr style=\"text-align: right;\">\n",
       "      <th></th>\n",
       "      <th>model</th>\n",
       "      <th>average r2 cross val score</th>\n",
       "      <th>test r2 score</th>\n",
       "      <th>mean absolute error</th>\n",
       "    </tr>\n",
       "  </thead>\n",
       "  <tbody>\n",
       "    <tr>\n",
       "      <th>0</th>\n",
       "      <td>Linear Regression</td>\n",
       "      <td>0.017999</td>\n",
       "      <td>0.018792</td>\n",
       "      <td>15.828011</td>\n",
       "    </tr>\n",
       "    <tr>\n",
       "      <th>1</th>\n",
       "      <td>KNN Regression</td>\n",
       "      <td>0.036167</td>\n",
       "      <td>0.044619</td>\n",
       "      <td>15.419288</td>\n",
       "    </tr>\n",
       "    <tr>\n",
       "      <th>2</th>\n",
       "      <td>Random Forest Regression</td>\n",
       "      <td>0.056226</td>\n",
       "      <td>0.057601</td>\n",
       "      <td>15.567252</td>\n",
       "    </tr>\n",
       "    <tr>\n",
       "      <th>3</th>\n",
       "      <td>AdaBoost Regression</td>\n",
       "      <td>0.039966</td>\n",
       "      <td>0.031705</td>\n",
       "      <td>15.872577</td>\n",
       "    </tr>\n",
       "    <tr>\n",
       "      <th>4</th>\n",
       "      <td>Multi-Layer Perceptron Regression</td>\n",
       "      <td>0.039750</td>\n",
       "      <td>0.031962</td>\n",
       "      <td>15.788771</td>\n",
       "    </tr>\n",
       "  </tbody>\n",
       "</table>\n",
       "</div>"
      ],
      "text/plain": [
       "                               model  average r2 cross val score  \\\n",
       "0                  Linear Regression                    0.017999   \n",
       "1                     KNN Regression                    0.036167   \n",
       "2           Random Forest Regression                    0.056226   \n",
       "3                AdaBoost Regression                    0.039966   \n",
       "4  Multi-Layer Perceptron Regression                    0.039750   \n",
       "\n",
       "   test r2 score  mean absolute error  \n",
       "0       0.018792            15.828011  \n",
       "1       0.044619            15.419288  \n",
       "2       0.057601            15.567252  \n",
       "3       0.031705            15.872577  \n",
       "4       0.031962            15.788771  "
      ]
     },
     "execution_count": 33,
     "metadata": {},
     "output_type": "execute_result"
    }
   ],
   "source": [
    "#Okay, for a better look at the results, its time to put everything into a dataframe.\n",
    "dict_for_e = {'model'                      : ['Linear Regression', 'KNN Regression', 'Random Forest Regression', 'AdaBoost Regression', 'Multi-Layer Perceptron Regression'],\n",
    "              'average r2 cross val score' : [lr_train_r2_best, knn_train_r2_best, RF_train_r2_best, ada_train_r2_best, mlp_train_r2_best],\n",
    "              'test r2 score'              : [lr_test_r2, knn_test_r2, RF_test_r2, ada_test_r2, mlp_test_r2],\n",
    "              'mean absolute error'        : [lr_MAE, knn_MAE, RF_MAE, ada_MAE, mlp_MAE]\n",
    "             }\n",
    "comp_df = pd.DataFrame(dict_for_e)\n",
    "#I only have 5 categories so head is really useful here!\n",
    "comp_df.head()"
   ]
  },
  {
   "cell_type": "code",
   "execution_count": 42,
   "id": "5196b88f",
   "metadata": {},
   "outputs": [
    {
     "data": {
      "image/png": "[encoded data removed]",
      "text/plain": [
       "<Figure size 432x288 with 1 Axes>"
      ]
     },
     "metadata": {
      "needs_background": "light"
     },
     "output_type": "display_data"
    }
   ],
   "source": [
    "#The main metric that I am going off of for analysis is the MAE score, and going off of that I would have to say that the\n",
    "#KNN model is the best. Lets just vizualize these results in a slightly different way. I'll start with plotting the r2 \n",
    "#scores and then move on to the main metric of the mean absolute error.\n",
    "ind_1 = [1, 2, 3, 4, 5]\n",
    "ind_2 = [1.2, 2.2, 3.2, 4.2, 5.2]\n",
    "labels = ['Linear Regression', 'KNN', 'Random Forest', 'AdaBoost', 'Multi-Layer Perceptron']\n",
    "\n",
    "_ = plt.bar(ind_1, comp_df['test r2 score'], color = 'red', label = 'Test Score', width = 0.2, edgecolor = 'black')\n",
    "_ = plt.bar(ind_2, comp_df['average r2 cross val score'], color = 'blue', label = 'AVG r2 CV Score', width = 0.2, edgecolor = 'black')\n",
    "_ = plt.xlabel('Model', fontsize = 13)\n",
    "_ = plt.ylabel('Model R^2 Score', fontsize = 13)\n",
    "_ = plt.xticks(ticks = ind_1, labels = labels, rotation = 45)\n",
    "_ = plt.legend()\n",
    "_ = plt.title('Comparison of Model R^2 Scores', fontsize = 16)\n",
    "_ = plt.savefig('r2comp.png')\n",
    "plt.show()"
   ]
  },
  {
   "cell_type": "code",
   "execution_count": 45,
   "id": "6f410fb8",
   "metadata": {},
   "outputs": [
    {
     "data": {
      "image/png": "[encoded data removed]",
      "text/plain": [
       "<Figure size 432x288 with 1 Axes>"
      ]
     },
     "metadata": {
      "needs_background": "light"
     },
     "output_type": "display_data"
    }
   ],
   "source": [
    "_ = plt.bar(ind_1, comp_df['mean absolute error'], color = 'red', label = 'Mean Absolute Error', width = 0.5, edgecolor = 'black')\n",
    "_ = plt.xlabel('Model', fontsize = 13)\n",
    "_ = plt.ylabel('MAE Score', fontsize = 13)\n",
    "_ = plt.xticks(ticks = ind_1, labels = labels, rotation = 45)\n",
    "_ = plt.title('Comparison of Model Mean Absolute Error Scores', fontsize = 16)\n",
    "_ = plt.savefig('maecomp.png')\n",
    "plt.show()"
   ]
  },
  {
   "cell_type": "markdown",
   "id": "659c9167",
   "metadata": {},
   "source": [
    "By the looks of it, things could be better. It seems like none of the models are working that well at describing a songs popularity. The last thing that I am going to check is trying out some different hyperparameters in the random forest model as most of the models have a MAE scores so close that making a decision on the model off that metric could be difficult to justify. Additionally, with such low r2 scores it seems difficult to justify saying there is much of an impact on a songs popularity based off the features as they stand. This could possibly be changed by doing additional feature engineering, but I would think any change would still only mildly increase the usability of a model for predicting the popularity of a song. At this point, the main thing I would feel comfortable saying is that song popularity is barely correlative with the musical elements of the song and that it has more to do with other, non modeled factors. Furthermore, this would support the null hypothesis that a songs popularity is not related to its musical properties. That being said I just want to try one more time to get a model that could better describe the data, and going off the previous two graphs I think the potential improvement could only really come from the random forest model. This will (of course) come with an increase in fitting time, but I think that is an okay price to pay if it can get me better results."
   ]
  },
  {
   "cell_type": "code",
   "execution_count": 46,
   "id": "99ab2016",
   "metadata": {},
   "outputs": [
    {
     "data": {
      "text/plain": [
       "GridSearchCV(estimator=RandomForestRegressor(), n_jobs=-1,\n",
       "             param_grid={'bootstrap': [True, False], 'max_features': ['sqrt'],\n",
       "                         'min_samples_split': [10, 15, 20, 25, 30],\n",
       "                         'n_estimators': [500, 750, 1000]})"
      ]
     },
     "execution_count": 46,
     "metadata": {},
     "output_type": "execute_result"
    }
   ],
   "source": [
    "RF_params2 = {'n_estimators'      : [500, 750, 1000],#500 was best so will increase range values (this will take longer)\n",
    "             'max_features'      : ['sqrt'],#shown best from earlier\n",
    "             'bootstrap'         : [True, False],#did not specify so will keep as is\n",
    "             'min_samples_split' : [10, 15, 20, 25, 30]#best was 10 earlier, so will increase range values\n",
    "            }\n",
    "RF_grid2 = GridSearchCV(estimator = RF_model, param_grid = RF_params2, n_jobs = -1)\n",
    "RF_grid2.fit(X_tr, y_tr)"
   ]
  },
  {
   "cell_type": "code",
   "execution_count": 47,
   "id": "ca58fd6a",
   "metadata": {},
   "outputs": [
    {
     "name": "stdout",
     "output_type": "stream",
     "text": [
      "Best Params: RandomForestRegressor(max_features='sqrt', min_samples_split=30,\n",
      "                      n_estimators=750)\n",
      "Best Score: 0.05790954115139431\n",
      "On Test Data R^2: 0.054782981582145784\n",
      "Mean Absolute Error: 15.57042189593364\n"
     ]
    }
   ],
   "source": [
    "print('Best Params:', RF_grid2.best_estimator_)\n",
    "RF2_train_r2_best = RF_grid2.best_score_\n",
    "print('Best Score:', RF2_train_r2_best)\n",
    "RF2_test_r2 = RF_grid2.score(X_te, y_te)\n",
    "print('On Test Data R^2:', RF2_test_r2)\n",
    "\n",
    "RF2_y_pred = RF_grid2.predict(X_te)\n",
    "RF2_MAE = mean_absolute_error(y_te, RF2_y_pred)\n",
    "print('Mean Absolute Error:', RF2_MAE)"
   ]
  },
  {
   "cell_type": "markdown",
   "id": "fa8edebd",
   "metadata": {},
   "source": [
    "Well, that actually produced worse results. I suppose there may be something to say in reguards to my increase of values at random to be akin to Icarus. While it may not have been the results I wanted, I can still use this to move forward. I'll just ignore that model and use the inital Random Forest model, as all the models have MAE scores so similar that it makes me hesitant to rely on it for my final decision. Because of this, using the r-squared as a back-up would have me choose the first Random Forest model. With all that in mind, I'll pull the feature importance before I conclude the modeling stage."
   ]
  },
  {
   "cell_type": "code",
   "execution_count": 51,
   "id": "b8aa4cce",
   "metadata": {},
   "outputs": [
    {
     "data": {
      "text/plain": [
       "RandomForestRegressor(max_features='sqrt', min_samples_split=10,\n",
       "                      n_estimators=500)"
      ]
     },
     "execution_count": 51,
     "metadata": {},
     "output_type": "execute_result"
    }
   ],
   "source": [
    "fin_mod = RandomForestRegressor(max_features = 'sqrt', min_samples_split = 10, n_estimators = 500)\n",
    "fin_mod.fit(X_tr, y_tr)"
   ]
  },
  {
   "cell_type": "code",
   "execution_count": 55,
   "id": "244eed72",
   "metadata": {},
   "outputs": [
    {
     "data": {
      "text/html": [
       "<div>\n",
       "<style scoped>\n",
       "    .dataframe tbody tr th:only-of-type {\n",
       "        vertical-align: middle;\n",
       "    }\n",
       "\n",
       "    .dataframe tbody tr th {\n",
       "        vertical-align: top;\n",
       "    }\n",
       "\n",
       "    .dataframe thead th {\n",
       "        text-align: right;\n",
       "    }\n",
       "</style>\n",
       "<table border=\"1\" class=\"dataframe\">\n",
       "  <thead>\n",
       "    <tr style=\"text-align: right;\">\n",
       "      <th></th>\n",
       "      <th>Features</th>\n",
       "      <th>Importance scores</th>\n",
       "    </tr>\n",
       "  </thead>\n",
       "  <tbody>\n",
       "    <tr>\n",
       "      <th>0</th>\n",
       "      <td>song_duration_ms</td>\n",
       "      <td>0.004419</td>\n",
       "    </tr>\n",
       "    <tr>\n",
       "      <th>1</th>\n",
       "      <td>acousticness</td>\n",
       "      <td>0.005909</td>\n",
       "    </tr>\n",
       "    <tr>\n",
       "      <th>2</th>\n",
       "      <td>danceability</td>\n",
       "      <td>0.006639</td>\n",
       "    </tr>\n",
       "    <tr>\n",
       "      <th>3</th>\n",
       "      <td>energy</td>\n",
       "      <td>0.007184</td>\n",
       "    </tr>\n",
       "    <tr>\n",
       "      <th>4</th>\n",
       "      <td>instrumentalness</td>\n",
       "      <td>0.007259</td>\n",
       "    </tr>\n",
       "    <tr>\n",
       "      <th>5</th>\n",
       "      <td>liveness</td>\n",
       "      <td>0.007605</td>\n",
       "    </tr>\n",
       "    <tr>\n",
       "      <th>6</th>\n",
       "      <td>loudness</td>\n",
       "      <td>0.007667</td>\n",
       "    </tr>\n",
       "    <tr>\n",
       "      <th>7</th>\n",
       "      <td>speechiness</td>\n",
       "      <td>0.007668</td>\n",
       "    </tr>\n",
       "    <tr>\n",
       "      <th>8</th>\n",
       "      <td>tempo</td>\n",
       "      <td>0.007936</td>\n",
       "    </tr>\n",
       "    <tr>\n",
       "      <th>9</th>\n",
       "      <td>audio_valence</td>\n",
       "      <td>0.008005</td>\n",
       "    </tr>\n",
       "    <tr>\n",
       "      <th>10</th>\n",
       "      <td>key_1</td>\n",
       "      <td>0.008338</td>\n",
       "    </tr>\n",
       "    <tr>\n",
       "      <th>11</th>\n",
       "      <td>key_2</td>\n",
       "      <td>0.083955</td>\n",
       "    </tr>\n",
       "    <tr>\n",
       "      <th>12</th>\n",
       "      <td>key_3</td>\n",
       "      <td>0.088957</td>\n",
       "    </tr>\n",
       "    <tr>\n",
       "      <th>13</th>\n",
       "      <td>key_4</td>\n",
       "      <td>0.089641</td>\n",
       "    </tr>\n",
       "    <tr>\n",
       "      <th>14</th>\n",
       "      <td>key_5</td>\n",
       "      <td>0.089854</td>\n",
       "    </tr>\n",
       "    <tr>\n",
       "      <th>15</th>\n",
       "      <td>key_6</td>\n",
       "      <td>0.090608</td>\n",
       "    </tr>\n",
       "    <tr>\n",
       "      <th>16</th>\n",
       "      <td>key_7</td>\n",
       "      <td>0.091175</td>\n",
       "    </tr>\n",
       "    <tr>\n",
       "      <th>17</th>\n",
       "      <td>key_8</td>\n",
       "      <td>0.093371</td>\n",
       "    </tr>\n",
       "    <tr>\n",
       "      <th>18</th>\n",
       "      <td>key_9</td>\n",
       "      <td>0.094044</td>\n",
       "    </tr>\n",
       "    <tr>\n",
       "      <th>19</th>\n",
       "      <td>key_10</td>\n",
       "      <td>0.097806</td>\n",
       "    </tr>\n",
       "    <tr>\n",
       "      <th>20</th>\n",
       "      <td>key_11</td>\n",
       "      <td>0.101960</td>\n",
       "    </tr>\n",
       "  </tbody>\n",
       "</table>\n",
       "</div>"
      ],
      "text/plain": [
       "            Features  Importance scores\n",
       "0   song_duration_ms           0.004419\n",
       "1       acousticness           0.005909\n",
       "2       danceability           0.006639\n",
       "3             energy           0.007184\n",
       "4   instrumentalness           0.007259\n",
       "5           liveness           0.007605\n",
       "6           loudness           0.007667\n",
       "7        speechiness           0.007668\n",
       "8              tempo           0.007936\n",
       "9      audio_valence           0.008005\n",
       "10             key_1           0.008338\n",
       "11             key_2           0.083955\n",
       "12             key_3           0.088957\n",
       "13             key_4           0.089641\n",
       "14             key_5           0.089854\n",
       "15             key_6           0.090608\n",
       "16             key_7           0.091175\n",
       "17             key_8           0.093371\n",
       "18             key_9           0.094044\n",
       "19            key_10           0.097806\n",
       "20            key_11           0.101960"
      ]
     },
     "execution_count": 55,
     "metadata": {},
     "output_type": "execute_result"
    }
   ],
   "source": [
    "features = list(X_tr.columns.values)\n",
    "important = np.sort(list(fin_mod.feature_importances_))\n",
    "imp_table = pd.DataFrame(list(zip(features, important)), columns =['Features', 'Importance scores'])\n",
    "imp_table"
   ]
  },
  {
   "cell_type": "code",
   "execution_count": 59,
   "id": "3f430682",
   "metadata": {},
   "outputs": [
    {
     "data": {
      "image/png": "[encoded data removed]",
      "text/plain": [
       "<Figure size 432x288 with 1 Axes>"
      ]
     },
     "metadata": {
      "needs_background": "light"
     },
     "output_type": "display_data"
    }
   ],
   "source": [
    "index = [0, 1, 2, 3, 4, 5, 6, 7, 8, 9, 10, 11, 12, 13, 14, 15, 16, 17, 18, 19, 20]\n",
    "_ = plt.barh(index, important, align='center',color='b')\n",
    "_ = plt.xlabel('Relative Importance',fontsize = 13)\n",
    "_ = plt.ylabel('Features',fontsize = 13)\n",
    "_ = plt.yticks(index, features)\n",
    "_ = plt.title('Feature Importances for Random Forest Model',fontsize = 17)\n",
    "plt.savefig(\"rfimportance.png\")\n",
    "plt.show()"
   ]
  },
  {
   "cell_type": "markdown",
   "id": "da844dc7",
   "metadata": {},
   "source": [
    "By the looks of it, the key signature seems to be the most important thing in the model by far. This actually seems logical as some time signatures are popular and more commonly used. That being said, it is still a little dissapointing that the model is so focused on key signature, but thats the way the cookie crumbles. From here, the steps that I can take are maybe trying to do some additional feature engineering (probably with featuretools as I can't think of any normal or logical ways to relate the categories as is), but even then I can't expect much of an increase. That being said, I can now somewhat comfortably make the claim that the features of a song have little impact on the popularity of a song, and what impact they have is probably mostly to do with the key signature of the song."
   ]
  }
 ],
 "metadata": {
  "kernelspec": {
   "display_name": "Python 3",
   "language": "python",
   "name": "python3"
  },
  "language_info": {
   "codemirror_mode": {
    "name": "ipython",
    "version": 3
   },
   "file_extension": ".py",
   "mimetype": "text/x-python",
   "name": "python",
   "nbconvert_exporter": "python",
   "pygments_lexer": "ipython3",
   "version": "3.8.8"
  }
 },
 "nbformat": 4,
 "nbformat_minor": 5
}
